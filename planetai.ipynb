{
 "cells": [
  {
   "cell_type": "code",
   "execution_count": 166,
   "metadata": {},
   "outputs": [],
   "source": [
    "# IMPORTS\n",
    "\n",
    "import numpy as np\n",
    "import os\n",
    "import matplotlib.pyplot as plt\n",
    "%matplotlib inline\n",
    "import pandas as pd\n",
    "import tensorflow\n",
    "import lightkurve as lk\n",
    "import cv2\n",
    "\n",
    "from PIL import Image\n",
    "\n",
    "from tensorflow import keras\n",
    "from tensorflow.keras import layers\n",
    "from tensorflow.keras import Sequential\n",
    "from tensorflow.keras.preprocessing.image import ImageDataGenerator\n",
    "from tensorflow.keras.preprocessing import image\n"
   ]
  },
  {
   "cell_type": "code",
   "execution_count": 167,
   "metadata": {},
   "outputs": [],
   "source": [
    "# PHASE AND BIN FUNCTION\n",
    "\n",
    "def phase_and_bin(data,period,t0,bin_time):\n",
    "    data_phased = data.fold(period=period,epoch_time=t0)\n",
    "    data_binned = data_phased.bin(bin_time)\n",
    "    return data_binned\n"
   ]
  },
  {
   "cell_type": "code",
   "execution_count": 168,
   "metadata": {},
   "outputs": [],
   "source": [
    "# DOWNLOAD (& ADD TO BIG ARRAY)\n",
    "\n",
    "def download(search):\n",
    "\n",
    "    lc = search.download()\n",
    "    lcplot = lc.plot(linewidth=0,marker=\".\")\n",
    "    img = cv2.imread(lcplot, 1)\n",
    "    return img\n",
    "    "
   ]
  },
  {
   "cell_type": "code",
   "execution_count": 169,
   "metadata": {},
   "outputs": [],
   "source": [
    "# GET ARRAY OF IMAGE ARRAYS FOR A FILE\n",
    "\n",
    "def get_lightcurves(filename):\n",
    "\n",
    "    tbl = pd.read_csv(os.path.abspath(filename),delimiter=\",\",comment=\"#\")\n",
    "    \n",
    "    colnames = tbl.columns.values.tolist()\n",
    "    if \"tid\" in colnames:\n",
    "        TICs = tbl[\"tid\"].astype(str).str[4:]\n",
    "    elif \"tic_id\" in colnames:\n",
    "        TICs = tbl[\"tic_id\"].astype(str).str[4:]\n",
    "    else:\n",
    "        print(\"No TIC ID column found.\")\n",
    "\n",
    "    pics = np.array([])\n",
    "\n",
    "    for x in range(0,32):\n",
    "        name = TICs[x]\n",
    "        search = lk.search_lightcurve(\"TIC \" + name,author=\"SPOC\",sector=1)\n",
    "        if search.download() is not None:\n",
    "            pic = download(search)\n",
    "            pics = np.append(pics,pic)\n",
    "        \n",
    "    return(pics)\n",
    "\n",
    "        "
   ]
  },
  {
   "cell_type": "code",
   "execution_count": 170,
   "metadata": {},
   "outputs": [],
   "source": [
    "# CREATE TRAIN AND TEST DATASETS\n",
    "\n",
    "def predictExo(exotrainfile,noexotrainfile,testfile):\n",
    "\n",
    "    exotraindata = np.array(get_lightcurves(exotrainfile),dtype=\"float\") / 255.0\n",
    "    noexotraindata = np.array(get_lightcurves(noexotrainfile),dtype=\"float\") / 255.0\n",
    "    testdata = np.array(get_lightcurves(testfile))\n",
    "\n",
    "    print(np.shape(exotraindata))\n",
    "\n",
    "    exolabels = np.ones(32)\n",
    "    noexolabels = np.zeros(32)\n",
    "\n",
    "    traindata = np.concatenate((exotraindata,noexotraindata))\n",
    "    trainlabels = np.concatenate((exolabels,noexolabels))\n",
    "\n",
    "    # BUILD CNN MODEL\n",
    "\n",
    "    model = keras.Sequential()\n",
    "\n",
    "    model.add(keras.layers.Conv2D(32,(3,3),activation=\"relu\",input_shape=(150,150,3)))\n",
    "    model.add(keras.layers.MaxPool2D(2,2))\n",
    "\n",
    "    model.add(keras.layers.Conv2D(64,(3,3),activation=\"relu\"))\n",
    "    model.add(keras.layers.MaxPool2D(2,2))\n",
    "\n",
    "    model.add(keras.layers.Conv2D(128,(3,3),activation=\"relu\"))\n",
    "    model.add(keras.layers.MaxPool2D(2,2))\n",
    "\n",
    "    model.add(keras.layers.Conv2D(128,(3,3),activation=\"relu\"))\n",
    "    model.add(keras.layers.MaxPool2D(2,2))\n",
    "\n",
    "    model.add(keras.layers.Flatten())\n",
    "\n",
    "    model.add(keras.layers.Dense(512,activation=\"relu\"))\n",
    "\n",
    "    model.add(keras.layers.Dense(1,activation=\"sigmoid\"))\n",
    "\n",
    "    model.compile(optimizer=\"adam\",loss=\"binary_crossentropy\",metrics=[\"accuracy\"])\n",
    "\n",
    "    # TRAIN DATA\n",
    "\n",
    "    model.fit(\n",
    "        traindata,\n",
    "        trainlabels,\n",
    "        batch_size = 1,\n",
    "        steps_per_epoch = 250,\n",
    "        epochs = 10,\n",
    "    )\n",
    "\n",
    "    for y in testfile:\n",
    "\n",
    "        Y = get_lightcurves(testfile[y])\n",
    "        pic = Image.fromarray(Y)\n",
    "        pic.show()\n",
    "        X = np.expand_dims(Y,axis=0)\n",
    "\n",
    "        val = model.predict(X)\n",
    "        print(val)\n",
    "\n",
    "        if val == 1:\n",
    "            plt.xlabel(\"Exoplanet detected!\",fontsize=30)\n",
    "        elif val == 0:\n",
    "            plt.xlabel(\"No exoplanet detected.\",fontsize=30)"
   ]
  },
  {
   "cell_type": "code",
   "execution_count": 171,
   "metadata": {},
   "outputs": [
    {
     "name": "stdout",
     "output_type": "stream",
     "text": [
      "(32,)\n",
      "(32,)\n",
      "Epoch 1/10\n",
      "WARNING:tensorflow:Model was constructed with shape (None, 150, 150, 3) for input KerasTensor(type_spec=TensorSpec(shape=(None, 150, 150, 3), dtype=tf.float32, name='conv2d_4_input'), name='conv2d_4_input', description=\"created by layer 'conv2d_4_input'\"), but it was called on an input with incompatible shape (1,).\n"
     ]
    },
    {
     "name": "stderr",
     "output_type": "stream",
     "text": [
      "/home/vanillacosmos/miniconda3/envs/codeastrogit/lib/python3.9/site-packages/lightkurve/search.py:341: LightkurveWarning: Cannot download from an empty search result.\n",
      "  warnings.warn(\n",
      "/home/vanillacosmos/miniconda3/envs/codeastrogit/lib/python3.9/site-packages/lightkurve/search.py:341: LightkurveWarning: Cannot download from an empty search result.\n",
      "  warnings.warn(\n",
      "/home/vanillacosmos/miniconda3/envs/codeastrogit/lib/python3.9/site-packages/lightkurve/search.py:341: LightkurveWarning: Cannot download from an empty search result.\n",
      "  warnings.warn(\n",
      "/home/vanillacosmos/miniconda3/envs/codeastrogit/lib/python3.9/site-packages/lightkurve/search.py:341: LightkurveWarning: Cannot download from an empty search result.\n",
      "  warnings.warn(\n"
     ]
    },
    {
     "ename": "ValueError",
     "evalue": "in user code:\n\n    File \"/home/vanillacosmos/miniconda3/envs/codeastrogit/lib/python3.9/site-packages/keras/engine/training.py\", line 878, in train_function  *\n        return step_function(self, iterator)\n    File \"/home/vanillacosmos/miniconda3/envs/codeastrogit/lib/python3.9/site-packages/keras/engine/training.py\", line 867, in step_function  **\n        outputs = model.distribute_strategy.run(run_step, args=(data,))\n    File \"/home/vanillacosmos/miniconda3/envs/codeastrogit/lib/python3.9/site-packages/keras/engine/training.py\", line 860, in run_step  **\n        outputs = model.train_step(data)\n    File \"/home/vanillacosmos/miniconda3/envs/codeastrogit/lib/python3.9/site-packages/keras/engine/training.py\", line 808, in train_step\n        y_pred = self(x, training=True)\n    File \"/home/vanillacosmos/miniconda3/envs/codeastrogit/lib/python3.9/site-packages/keras/utils/traceback_utils.py\", line 67, in error_handler\n        raise e.with_traceback(filtered_tb) from None\n    File \"/home/vanillacosmos/miniconda3/envs/codeastrogit/lib/python3.9/site-packages/keras/engine/input_spec.py\", line 227, in assert_input_compatibility\n        raise ValueError(f'Input {input_index} of layer \"{layer_name}\" '\n\n    ValueError: Exception encountered when calling layer \"sequential_1\" (type Sequential).\n    \n    Input 0 of layer \"conv2d_4\" is incompatible with the layer: expected min_ndim=4, found ndim=1. Full shape received: (1,)\n    \n    Call arguments received:\n      • inputs=tf.Tensor(shape=(1,), dtype=float32)\n      • training=True\n      • mask=None\n",
     "output_type": "error",
     "traceback": [
      "\u001b[0;31m---------------------------------------------------------------------------\u001b[0m",
      "\u001b[0;31mValueError\u001b[0m                                Traceback (most recent call last)",
      "\u001b[1;32m/mnt/c/Users/ItIsO/Documents/GitHub/exo-ml/planetai.ipynb Cell 6'\u001b[0m in \u001b[0;36m<cell line: 1>\u001b[0;34m()\u001b[0m\n\u001b[0;32m----> <a href='vscode-notebook-cell://wsl%2Bubuntu/mnt/c/Users/ItIsO/Documents/GitHub/exo-ml/planetai.ipynb#ch0000007vscode-remote?line=0'>1</a>\u001b[0m predictExo(\u001b[39m\"\u001b[39;49m\u001b[39mPS_2022.06.27_08.12.38.csv\u001b[39;49m\u001b[39m\"\u001b[39;49m,\u001b[39m\"\u001b[39;49m\u001b[39mTOI_2022.06.29_08.07.35.csv\u001b[39;49m\u001b[39m\"\u001b[39;49m,\u001b[39m\"\u001b[39;49m\u001b[39mPS_2022.07.04_02.32.20.csv\u001b[39;49m\u001b[39m\"\u001b[39;49m)\n",
      "\u001b[1;32m/mnt/c/Users/ItIsO/Documents/GitHub/exo-ml/planetai.ipynb Cell 5'\u001b[0m in \u001b[0;36mpredictExo\u001b[0;34m(exotrainfile, noexotrainfile, testfile)\u001b[0m\n\u001b[1;32m     <a href='vscode-notebook-cell://wsl%2Bubuntu/mnt/c/Users/ItIsO/Documents/GitHub/exo-ml/planetai.ipynb#ch0000006vscode-remote?line=40'>41</a>\u001b[0m model\u001b[39m.\u001b[39mcompile(optimizer\u001b[39m=\u001b[39m\u001b[39m\"\u001b[39m\u001b[39madam\u001b[39m\u001b[39m\"\u001b[39m,loss\u001b[39m=\u001b[39m\u001b[39m\"\u001b[39m\u001b[39mbinary_crossentropy\u001b[39m\u001b[39m\"\u001b[39m,metrics\u001b[39m=\u001b[39m[\u001b[39m\"\u001b[39m\u001b[39maccuracy\u001b[39m\u001b[39m\"\u001b[39m])\n\u001b[1;32m     <a href='vscode-notebook-cell://wsl%2Bubuntu/mnt/c/Users/ItIsO/Documents/GitHub/exo-ml/planetai.ipynb#ch0000006vscode-remote?line=42'>43</a>\u001b[0m \u001b[39m# TRAIN DATA\u001b[39;00m\n\u001b[0;32m---> <a href='vscode-notebook-cell://wsl%2Bubuntu/mnt/c/Users/ItIsO/Documents/GitHub/exo-ml/planetai.ipynb#ch0000006vscode-remote?line=44'>45</a>\u001b[0m model\u001b[39m.\u001b[39;49mfit(\n\u001b[1;32m     <a href='vscode-notebook-cell://wsl%2Bubuntu/mnt/c/Users/ItIsO/Documents/GitHub/exo-ml/planetai.ipynb#ch0000006vscode-remote?line=45'>46</a>\u001b[0m     traindata,\n\u001b[1;32m     <a href='vscode-notebook-cell://wsl%2Bubuntu/mnt/c/Users/ItIsO/Documents/GitHub/exo-ml/planetai.ipynb#ch0000006vscode-remote?line=46'>47</a>\u001b[0m     trainlabels,\n\u001b[1;32m     <a href='vscode-notebook-cell://wsl%2Bubuntu/mnt/c/Users/ItIsO/Documents/GitHub/exo-ml/planetai.ipynb#ch0000006vscode-remote?line=47'>48</a>\u001b[0m     batch_size \u001b[39m=\u001b[39;49m \u001b[39m1\u001b[39;49m,\n\u001b[1;32m     <a href='vscode-notebook-cell://wsl%2Bubuntu/mnt/c/Users/ItIsO/Documents/GitHub/exo-ml/planetai.ipynb#ch0000006vscode-remote?line=48'>49</a>\u001b[0m     steps_per_epoch \u001b[39m=\u001b[39;49m \u001b[39m250\u001b[39;49m,\n\u001b[1;32m     <a href='vscode-notebook-cell://wsl%2Bubuntu/mnt/c/Users/ItIsO/Documents/GitHub/exo-ml/planetai.ipynb#ch0000006vscode-remote?line=49'>50</a>\u001b[0m     epochs \u001b[39m=\u001b[39;49m \u001b[39m10\u001b[39;49m,\n\u001b[1;32m     <a href='vscode-notebook-cell://wsl%2Bubuntu/mnt/c/Users/ItIsO/Documents/GitHub/exo-ml/planetai.ipynb#ch0000006vscode-remote?line=50'>51</a>\u001b[0m )\n\u001b[1;32m     <a href='vscode-notebook-cell://wsl%2Bubuntu/mnt/c/Users/ItIsO/Documents/GitHub/exo-ml/planetai.ipynb#ch0000006vscode-remote?line=52'>53</a>\u001b[0m \u001b[39mfor\u001b[39;00m y \u001b[39min\u001b[39;00m testfile:\n\u001b[1;32m     <a href='vscode-notebook-cell://wsl%2Bubuntu/mnt/c/Users/ItIsO/Documents/GitHub/exo-ml/planetai.ipynb#ch0000006vscode-remote?line=54'>55</a>\u001b[0m     Y \u001b[39m=\u001b[39m get_lightcurves(testfile[y])\n",
      "File \u001b[0;32m~/miniconda3/envs/codeastrogit/lib/python3.9/site-packages/keras/utils/traceback_utils.py:67\u001b[0m, in \u001b[0;36mfilter_traceback.<locals>.error_handler\u001b[0;34m(*args, **kwargs)\u001b[0m\n\u001b[1;32m     65\u001b[0m \u001b[39mexcept\u001b[39;00m \u001b[39mException\u001b[39;00m \u001b[39mas\u001b[39;00m e:  \u001b[39m# pylint: disable=broad-except\u001b[39;00m\n\u001b[1;32m     66\u001b[0m   filtered_tb \u001b[39m=\u001b[39m _process_traceback_frames(e\u001b[39m.\u001b[39m__traceback__)\n\u001b[0;32m---> 67\u001b[0m   \u001b[39mraise\u001b[39;00m e\u001b[39m.\u001b[39mwith_traceback(filtered_tb) \u001b[39mfrom\u001b[39;00m \u001b[39mNone\u001b[39m\n\u001b[1;32m     68\u001b[0m \u001b[39mfinally\u001b[39;00m:\n\u001b[1;32m     69\u001b[0m   \u001b[39mdel\u001b[39;00m filtered_tb\n",
      "File \u001b[0;32m~/miniconda3/envs/codeastrogit/lib/python3.9/site-packages/tensorflow/python/framework/func_graph.py:1129\u001b[0m, in \u001b[0;36mfunc_graph_from_py_func.<locals>.autograph_handler\u001b[0;34m(*args, **kwargs)\u001b[0m\n\u001b[1;32m   1127\u001b[0m \u001b[39mexcept\u001b[39;00m \u001b[39mException\u001b[39;00m \u001b[39mas\u001b[39;00m e:  \u001b[39m# pylint:disable=broad-except\u001b[39;00m\n\u001b[1;32m   1128\u001b[0m   \u001b[39mif\u001b[39;00m \u001b[39mhasattr\u001b[39m(e, \u001b[39m\"\u001b[39m\u001b[39mag_error_metadata\u001b[39m\u001b[39m\"\u001b[39m):\n\u001b[0;32m-> 1129\u001b[0m     \u001b[39mraise\u001b[39;00m e\u001b[39m.\u001b[39mag_error_metadata\u001b[39m.\u001b[39mto_exception(e)\n\u001b[1;32m   1130\u001b[0m   \u001b[39melse\u001b[39;00m:\n\u001b[1;32m   1131\u001b[0m     \u001b[39mraise\u001b[39;00m\n",
      "\u001b[0;31mValueError\u001b[0m: in user code:\n\n    File \"/home/vanillacosmos/miniconda3/envs/codeastrogit/lib/python3.9/site-packages/keras/engine/training.py\", line 878, in train_function  *\n        return step_function(self, iterator)\n    File \"/home/vanillacosmos/miniconda3/envs/codeastrogit/lib/python3.9/site-packages/keras/engine/training.py\", line 867, in step_function  **\n        outputs = model.distribute_strategy.run(run_step, args=(data,))\n    File \"/home/vanillacosmos/miniconda3/envs/codeastrogit/lib/python3.9/site-packages/keras/engine/training.py\", line 860, in run_step  **\n        outputs = model.train_step(data)\n    File \"/home/vanillacosmos/miniconda3/envs/codeastrogit/lib/python3.9/site-packages/keras/engine/training.py\", line 808, in train_step\n        y_pred = self(x, training=True)\n    File \"/home/vanillacosmos/miniconda3/envs/codeastrogit/lib/python3.9/site-packages/keras/utils/traceback_utils.py\", line 67, in error_handler\n        raise e.with_traceback(filtered_tb) from None\n    File \"/home/vanillacosmos/miniconda3/envs/codeastrogit/lib/python3.9/site-packages/keras/engine/input_spec.py\", line 227, in assert_input_compatibility\n        raise ValueError(f'Input {input_index} of layer \"{layer_name}\" '\n\n    ValueError: Exception encountered when calling layer \"sequential_1\" (type Sequential).\n    \n    Input 0 of layer \"conv2d_4\" is incompatible with the layer: expected min_ndim=4, found ndim=1. Full shape received: (1,)\n    \n    Call arguments received:\n      • inputs=tf.Tensor(shape=(1,), dtype=float32)\n      • training=True\n      • mask=None\n"
     ]
    }
   ],
   "source": [
    "predictExo(\"PS_2022.06.27_08.12.38.csv\",\"TOI_2022.06.29_08.07.35.csv\",\"PS_2022.07.04_02.32.20.csv\")"
   ]
  }
 ],
 "metadata": {
  "kernelspec": {
   "display_name": "Python 3.9.12 ('codeastrogit')",
   "language": "python",
   "name": "python3"
  },
  "language_info": {
   "codemirror_mode": {
    "name": "ipython",
    "version": 3
   },
   "file_extension": ".py",
   "mimetype": "text/x-python",
   "name": "python",
   "nbconvert_exporter": "python",
   "pygments_lexer": "ipython3",
   "version": "3.9.12"
  },
  "orig_nbformat": 4,
  "vscode": {
   "interpreter": {
    "hash": "604d642e1d12f31842f16764757d847abbefd65c6df2d1770e6dbb129784c6ea"
   }
  }
 },
 "nbformat": 4,
 "nbformat_minor": 2
}
