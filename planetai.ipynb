{
 "cells": [
  {
   "cell_type": "code",
   "execution_count": 1,
   "metadata": {},
   "outputs": [
    {
     "name": "stderr",
     "output_type": "stream",
     "text": [
      "2022-07-04 14:45:01.252018: W tensorflow/stream_executor/platform/default/dso_loader.cc:64] Could not load dynamic library 'libcudart.so.11.0'; dlerror: libcudart.so.11.0: cannot open shared object file: No such file or directory\n",
      "2022-07-04 14:45:01.252046: I tensorflow/stream_executor/cuda/cudart_stub.cc:29] Ignore above cudart dlerror if you do not have a GPU set up on your machine.\n"
     ]
    }
   ],
   "source": [
    "# IMPORTS\n",
    "\n",
    "import numpy as np\n",
    "import os\n",
    "import matplotlib.pyplot as plt\n",
    "%matplotlib inline\n",
    "import pandas as pd\n",
    "import tensorflow\n",
    "import lightkurve as lk\n",
    "\n",
    "from PIL import Image\n",
    "\n",
    "from tensorflow import keras\n",
    "from tensorflow.keras import layers\n",
    "from tensorflow.keras import Sequential\n",
    "from tensorflow.keras.preprocessing.image import ImageDataGenerator\n",
    "from tensorflow.keras.preprocessing import image\n"
   ]
  },
  {
   "cell_type": "code",
   "execution_count": 2,
   "metadata": {},
   "outputs": [],
   "source": [
    "# PHASE AND BIN FUNCTION\n",
    "\n",
    "def phase_and_bin(data,period,t0,bin_time):\n",
    "    data_phased = data.fold(period=period,epoch_time=t0)\n",
    "    data_binned = data_phased.bin(bin_time)\n",
    "    return data_binned\n"
   ]
  },
  {
   "cell_type": "code",
   "execution_count": 3,
   "metadata": {},
   "outputs": [],
   "source": [
    "# CONVERT PLOT TO ARRAY FUNCTION\n",
    "\n",
    "def plot_to_array(pltdata):\n",
    "\n",
    "    lc = pltdata.plot(linewidth=0,marker=\".\")\n",
    "    img = np.asarray(bytearray(lc.read()),dtype=np.uint8)\n",
    "    \n",
    "    return img"
   ]
  },
  {
   "cell_type": "code",
   "execution_count": 4,
   "metadata": {},
   "outputs": [],
   "source": [
    "# DOWNLOAD (& ADD TO BIG ARRAY)\n",
    "\n",
    "def download(search,arr):\n",
    "    lc = search.download()\n",
    "    array = plot_to_array(lc)\n",
    "    arr.append(array)\n",
    "    return arr"
   ]
  },
  {
   "cell_type": "code",
   "execution_count": 5,
   "metadata": {},
   "outputs": [],
   "source": [
    "# GET ARRAY OF IMAGE ARRAYS FOR A FILE\n",
    "\n",
    "def get_lightcurves(filename):\n",
    "\n",
    "    tbl = pd.read_csv(os.path.abspath(filename),delimiter=\",\",comment=\"#\")\n",
    "    \n",
    "    colnames = tbl.columns.values.tolist()\n",
    "    if \"tid\" in colnames:\n",
    "        TICs = tbl[\"tid\"].astype(str).str[4:]\n",
    "    elif \"tic_id\" in colnames:\n",
    "        TICs = tbl[\"tic_id\"].astype(str).str[4:]\n",
    "    else:\n",
    "        print(\"No TIC ID column found.\")\n",
    "\n",
    "    x = 0\n",
    "\n",
    "    imgarray = np.array([])\n",
    "\n",
    "    while x < len(TICs):\n",
    "        name = TICs[x]\n",
    "        try:\n",
    "            search = lk.search_lightcurve(\"TIC \" + name,author=\"SPOC\",sector=1)\n",
    "            download(search,imgarray)\n",
    "        except:\n",
    "            print(\"No lightcurve found.\")\n",
    "    \n",
    "        x = x + 1\n",
    "\n",
    "        return imgarray"
   ]
  },
  {
   "cell_type": "code",
   "execution_count": 6,
   "metadata": {},
   "outputs": [],
   "source": [
    "# FETCH DATA (TESS DATA W/ LIGHTKURVE)\n",
    "\n",
    "# have it so user downloads csv table in certain format from NASA exoplanet archives (with the below headers), then inputs the file name\n",
    "\n",
    "#exonames_tbl = pd.read_csv(os.path.abspath(\"PS_2022.06.27_08.12.38.csv\"),delimiter=\",\",comment=\"#\")\n",
    "#TICs = exonames_tbl[\"tic_id\"]\n",
    "#periods = exonames_tbl[\"pl_orbper\"] # for phasing\n",
    "#epochs = exonames_tbl[\"pl_orbtper\"] # for phasing\n",
    "\n",
    "#bintime = 15/24/60\n",
    "\n",
    "#exotrainimgs = []\n",
    "\n",
    "#for x in range(0,17):\n",
    "    #print(TICs[x])\n",
    "    #name = TICs[x]\n",
    "    #if np.isnan(periods[x]) == False and np.isnan(epochs[x]) == False:\n",
    "        #train_exo_search = lk.search_lightcurve(str(name),author=\"SPOC\")[0:5]\n",
    "        #lc_exo_train = train_exo_search.download_all().stitch()\n",
    "        \n",
    "        #lc_exo_train_binned = phase_and_bin(lc_exo_train,periods[x],epochs[x],bintime)\n",
    "        \n",
    "        #imgarray = plot_to_array(lc_exo_train_binned)\n",
    "        #exotrainimgs.append(imgarray) # more on this part next!!\n",
    "        "
   ]
  },
  {
   "cell_type": "code",
   "execution_count": 9,
   "metadata": {},
   "outputs": [],
   "source": [
    "# CREATE TRAIN AND TEST DATASETS\n",
    "\n",
    "def predictExo(exotrainfile,noexotrainfile,testfile):\n",
    "\n",
    "    train = ImageDataGenerator(rescale=1/255)\n",
    "    test = ImageDataGenerator(rescale=1/255)\n",
    "    batchsize = 7\n",
    "\n",
    "    train_ds = train.flow(\n",
    "        get_lightcurves(exotrainfile),\n",
    "        get_lightcurves(noexotrainfile),\n",
    "        batch_size = batchsize)\n",
    "\n",
    "    test_ds = test.flow(\n",
    "        get_lightcurves(testfile),\n",
    "        batch_size = batchsize)\n",
    "\n",
    "    # BUILD CNN MODEL\n",
    "\n",
    "    model = keras.Sequential()\n",
    "\n",
    "    model.add(keras.layers.Conv2D(32,(3,3),activation=\"relu\",input_shape=(150,150,3)))\n",
    "    model.add(keras.layers.MaxPool2D(2,2))\n",
    "\n",
    "    model.add(keras.layers.Conv2D(64,(3,3),activation=\"relu\"))\n",
    "    model.add(keras.layers.MaxPool2D(2,2))\n",
    "\n",
    "    model.add(keras.layers.Conv2D(128,(3,3),activation=\"relu\"))\n",
    "    model.add(keras.layers.MaxPool2D(2,2))\n",
    "\n",
    "    model.add(keras.layers.Conv2D(128,(3,3),activation=\"relu\"))\n",
    "    model.add(keras.layers.MaxPool2D(2,2))\n",
    "\n",
    "    model.add(keras.layers.Flatten())\n",
    "\n",
    "    model.add(keras.layers.Dense(512,activation=\"relu\"))\n",
    "\n",
    "    model.add(keras.layers.Dense(1,activation=\"sigmoid\"))\n",
    "\n",
    "    model.compile(optimizer=\"adam\",loss=\"binary_crossentropy\",metrics=[\"accuracy\"])\n",
    "\n",
    "    # TRAIN DATA\n",
    "\n",
    "    model.fit(\n",
    "        train_ds,\n",
    "        steps_per_epoch = 250,\n",
    "        epochs = 10,\n",
    "        validation_data = test_ds\n",
    "    )\n",
    "\n",
    "    for y in testfile:\n",
    "\n",
    "        Y = get_lightcurves(testfile[y])\n",
    "        pic = Image.fromarray(Y)\n",
    "        pic.show()\n",
    "        X = np.expand_dims(Y,axis=0)\n",
    "\n",
    "        val = model.predict(X)\n",
    "        print(val)\n",
    "\n",
    "        if val == 1:\n",
    "            plt.xlabel(\"Exoplanet detected!\",fontsize=30)\n",
    "        elif val == 0:\n",
    "            plt.xlabel(\"No exoplanet detected.\",fontsize=30)"
   ]
  },
  {
   "cell_type": "code",
   "execution_count": 10,
   "metadata": {},
   "outputs": [
    {
     "name": "stdout",
     "output_type": "stream",
     "text": [
      "No lightcurve found.\n",
      "No lightcurve found.\n"
     ]
    },
    {
     "name": "stderr",
     "output_type": "stream",
     "text": [
      "/home/vanillacosmos/miniconda3/envs/codeastrogit/lib/python3.9/site-packages/lightkurve/search.py:341: LightkurveWarning: Cannot download from an empty search result.\n",
      "  warnings.warn(\n",
      "/home/vanillacosmos/miniconda3/envs/codeastrogit/lib/python3.9/site-packages/lightkurve/search.py:341: LightkurveWarning: Cannot download from an empty search result.\n",
      "  warnings.warn(\n"
     ]
    },
    {
     "ename": "IndexError",
     "evalue": "list index out of range",
     "output_type": "error",
     "traceback": [
      "\u001b[0;31m---------------------------------------------------------------------------\u001b[0m",
      "\u001b[0;31mIndexError\u001b[0m                                Traceback (most recent call last)",
      "\u001b[1;32m/mnt/c/Users/ItIsO/Documents/GitHub/exo-ml/planetai.ipynb Cell 8'\u001b[0m in \u001b[0;36m<cell line: 1>\u001b[0;34m()\u001b[0m\n\u001b[0;32m----> <a href='vscode-notebook-cell://wsl%2Bubuntu/mnt/c/Users/ItIsO/Documents/GitHub/exo-ml/planetai.ipynb#ch0000007vscode-remote?line=0'>1</a>\u001b[0m predictExo(\u001b[39m\"\u001b[39;49m\u001b[39mPS_2022.06.27_08.12.38.csv\u001b[39;49m\u001b[39m\"\u001b[39;49m,\u001b[39m\"\u001b[39;49m\u001b[39mTOI_2022.06.29_08.07.35.csv\u001b[39;49m\u001b[39m\"\u001b[39;49m,\u001b[39m\"\u001b[39;49m\u001b[39mPS_2022.07.04_02.32.20.csv\u001b[39;49m\u001b[39m\"\u001b[39;49m)\n",
      "\u001b[1;32m/mnt/c/Users/ItIsO/Documents/GitHub/exo-ml/planetai.ipynb Cell 7'\u001b[0m in \u001b[0;36mpredictExo\u001b[0;34m(exotrainfile, noexotrainfile, testfile)\u001b[0m\n\u001b[1;32m      <a href='vscode-notebook-cell://wsl%2Bubuntu/mnt/c/Users/ItIsO/Documents/GitHub/exo-ml/planetai.ipynb#ch0000006vscode-remote?line=5'>6</a>\u001b[0m test \u001b[39m=\u001b[39m ImageDataGenerator(rescale\u001b[39m=\u001b[39m\u001b[39m1\u001b[39m\u001b[39m/\u001b[39m\u001b[39m255\u001b[39m)\n\u001b[1;32m      <a href='vscode-notebook-cell://wsl%2Bubuntu/mnt/c/Users/ItIsO/Documents/GitHub/exo-ml/planetai.ipynb#ch0000006vscode-remote?line=6'>7</a>\u001b[0m batchsize \u001b[39m=\u001b[39m \u001b[39m7\u001b[39m\n\u001b[0;32m----> <a href='vscode-notebook-cell://wsl%2Bubuntu/mnt/c/Users/ItIsO/Documents/GitHub/exo-ml/planetai.ipynb#ch0000006vscode-remote?line=8'>9</a>\u001b[0m train_ds \u001b[39m=\u001b[39m train\u001b[39m.\u001b[39;49mflow(\n\u001b[1;32m     <a href='vscode-notebook-cell://wsl%2Bubuntu/mnt/c/Users/ItIsO/Documents/GitHub/exo-ml/planetai.ipynb#ch0000006vscode-remote?line=9'>10</a>\u001b[0m     get_lightcurves(exotrainfile),\n\u001b[1;32m     <a href='vscode-notebook-cell://wsl%2Bubuntu/mnt/c/Users/ItIsO/Documents/GitHub/exo-ml/planetai.ipynb#ch0000006vscode-remote?line=10'>11</a>\u001b[0m     get_lightcurves(noexotrainfile),\n\u001b[1;32m     <a href='vscode-notebook-cell://wsl%2Bubuntu/mnt/c/Users/ItIsO/Documents/GitHub/exo-ml/planetai.ipynb#ch0000006vscode-remote?line=11'>12</a>\u001b[0m     batch_size \u001b[39m=\u001b[39;49m batchsize)\n\u001b[1;32m     <a href='vscode-notebook-cell://wsl%2Bubuntu/mnt/c/Users/ItIsO/Documents/GitHub/exo-ml/planetai.ipynb#ch0000006vscode-remote?line=13'>14</a>\u001b[0m test_ds \u001b[39m=\u001b[39m test\u001b[39m.\u001b[39mflow(\n\u001b[1;32m     <a href='vscode-notebook-cell://wsl%2Bubuntu/mnt/c/Users/ItIsO/Documents/GitHub/exo-ml/planetai.ipynb#ch0000006vscode-remote?line=14'>15</a>\u001b[0m     get_lightcurves(testfile),\n\u001b[1;32m     <a href='vscode-notebook-cell://wsl%2Bubuntu/mnt/c/Users/ItIsO/Documents/GitHub/exo-ml/planetai.ipynb#ch0000006vscode-remote?line=15'>16</a>\u001b[0m     batch_size \u001b[39m=\u001b[39m batchsize)\n\u001b[1;32m     <a href='vscode-notebook-cell://wsl%2Bubuntu/mnt/c/Users/ItIsO/Documents/GitHub/exo-ml/planetai.ipynb#ch0000006vscode-remote?line=17'>18</a>\u001b[0m \u001b[39m# BUILD CNN MODEL\u001b[39;00m\n",
      "File \u001b[0;32m~/miniconda3/envs/codeastrogit/lib/python3.9/site-packages/keras/preprocessing/image.py:884\u001b[0m, in \u001b[0;36mImageDataGenerator.flow\u001b[0;34m(self, x, y, batch_size, shuffle, sample_weight, seed, save_to_dir, save_prefix, save_format, subset)\u001b[0m\n\u001b[1;32m    833\u001b[0m \u001b[39mdef\u001b[39;00m \u001b[39mflow\u001b[39m(\u001b[39mself\u001b[39m,\n\u001b[1;32m    834\u001b[0m          x,\n\u001b[1;32m    835\u001b[0m          y\u001b[39m=\u001b[39m\u001b[39mNone\u001b[39;00m,\n\u001b[0;32m   (...)\u001b[0m\n\u001b[1;32m    842\u001b[0m          save_format\u001b[39m=\u001b[39m\u001b[39m'\u001b[39m\u001b[39mpng\u001b[39m\u001b[39m'\u001b[39m,\n\u001b[1;32m    843\u001b[0m          subset\u001b[39m=\u001b[39m\u001b[39mNone\u001b[39;00m):\n\u001b[1;32m    844\u001b[0m   \u001b[39m\"\"\"Takes data & label arrays, generates batches of augmented data.\u001b[39;00m\n\u001b[1;32m    845\u001b[0m \n\u001b[1;32m    846\u001b[0m \u001b[39m  Args:\u001b[39;00m\n\u001b[0;32m   (...)\u001b[0m\n\u001b[1;32m    882\u001b[0m \n\u001b[1;32m    883\u001b[0m \u001b[39m  \"\"\"\u001b[39;00m\n\u001b[0;32m--> 884\u001b[0m   \u001b[39mreturn\u001b[39;00m NumpyArrayIterator(\n\u001b[1;32m    885\u001b[0m       x,\n\u001b[1;32m    886\u001b[0m       y,\n\u001b[1;32m    887\u001b[0m       \u001b[39mself\u001b[39;49m,\n\u001b[1;32m    888\u001b[0m       batch_size\u001b[39m=\u001b[39;49mbatch_size,\n\u001b[1;32m    889\u001b[0m       shuffle\u001b[39m=\u001b[39;49mshuffle,\n\u001b[1;32m    890\u001b[0m       sample_weight\u001b[39m=\u001b[39;49msample_weight,\n\u001b[1;32m    891\u001b[0m       seed\u001b[39m=\u001b[39;49mseed,\n\u001b[1;32m    892\u001b[0m       data_format\u001b[39m=\u001b[39;49m\u001b[39mself\u001b[39;49m\u001b[39m.\u001b[39;49mdata_format,\n\u001b[1;32m    893\u001b[0m       save_to_dir\u001b[39m=\u001b[39;49msave_to_dir,\n\u001b[1;32m    894\u001b[0m       save_prefix\u001b[39m=\u001b[39;49msave_prefix,\n\u001b[1;32m    895\u001b[0m       save_format\u001b[39m=\u001b[39;49msave_format,\n\u001b[1;32m    896\u001b[0m       subset\u001b[39m=\u001b[39;49msubset)\n",
      "File \u001b[0;32m~/miniconda3/envs/codeastrogit/lib/python3.9/site-packages/keras/preprocessing/image.py:463\u001b[0m, in \u001b[0;36mNumpyArrayIterator.__init__\u001b[0;34m(self, x, y, image_data_generator, batch_size, shuffle, sample_weight, seed, data_format, save_to_dir, save_prefix, save_format, subset, dtype)\u001b[0m\n\u001b[1;32m    461\u001b[0m     dtype \u001b[39m=\u001b[39m backend\u001b[39m.\u001b[39mfloatx()\n\u001b[1;32m    462\u001b[0m   kwargs[\u001b[39m'\u001b[39m\u001b[39mdtype\u001b[39m\u001b[39m'\u001b[39m] \u001b[39m=\u001b[39m dtype\n\u001b[0;32m--> 463\u001b[0m \u001b[39msuper\u001b[39;49m(NumpyArrayIterator, \u001b[39mself\u001b[39;49m)\u001b[39m.\u001b[39;49m\u001b[39m__init__\u001b[39;49m(\n\u001b[1;32m    464\u001b[0m     x, y, image_data_generator,\n\u001b[1;32m    465\u001b[0m     batch_size\u001b[39m=\u001b[39;49mbatch_size,\n\u001b[1;32m    466\u001b[0m     shuffle\u001b[39m=\u001b[39;49mshuffle,\n\u001b[1;32m    467\u001b[0m     sample_weight\u001b[39m=\u001b[39;49msample_weight,\n\u001b[1;32m    468\u001b[0m     seed\u001b[39m=\u001b[39;49mseed,\n\u001b[1;32m    469\u001b[0m     data_format\u001b[39m=\u001b[39;49mdata_format,\n\u001b[1;32m    470\u001b[0m     save_to_dir\u001b[39m=\u001b[39;49msave_to_dir,\n\u001b[1;32m    471\u001b[0m     save_prefix\u001b[39m=\u001b[39;49msave_prefix,\n\u001b[1;32m    472\u001b[0m     save_format\u001b[39m=\u001b[39;49msave_format,\n\u001b[1;32m    473\u001b[0m     subset\u001b[39m=\u001b[39;49msubset,\n\u001b[1;32m    474\u001b[0m     \u001b[39m*\u001b[39;49m\u001b[39m*\u001b[39;49mkwargs)\n",
      "File \u001b[0;32m~/miniconda3/envs/codeastrogit/lib/python3.9/site-packages/keras_preprocessing/image/numpy_array_iterator.py:70\u001b[0m, in \u001b[0;36mNumpyArrayIterator.__init__\u001b[0;34m(self, x, y, image_data_generator, batch_size, shuffle, sample_weight, seed, data_format, save_to_dir, save_prefix, save_format, subset, dtype)\u001b[0m\n\u001b[1;32m     68\u001b[0m \u001b[39mself\u001b[39m\u001b[39m.\u001b[39mdtype \u001b[39m=\u001b[39m dtype\n\u001b[1;32m     69\u001b[0m \u001b[39mif\u001b[39;00m (\u001b[39mtype\u001b[39m(x) \u001b[39mis\u001b[39;00m \u001b[39mtuple\u001b[39m) \u001b[39mor\u001b[39;00m (\u001b[39mtype\u001b[39m(x) \u001b[39mis\u001b[39;00m \u001b[39mlist\u001b[39m):\n\u001b[0;32m---> 70\u001b[0m     \u001b[39mif\u001b[39;00m \u001b[39mtype\u001b[39m(x[\u001b[39m1\u001b[39;49m]) \u001b[39mis\u001b[39;00m \u001b[39mnot\u001b[39;00m \u001b[39mlist\u001b[39m:\n\u001b[1;32m     71\u001b[0m         x_misc \u001b[39m=\u001b[39m [np\u001b[39m.\u001b[39masarray(x[\u001b[39m1\u001b[39m])]\n\u001b[1;32m     72\u001b[0m     \u001b[39melse\u001b[39;00m:\n",
      "\u001b[0;31mIndexError\u001b[0m: list index out of range"
     ]
    }
   ],
   "source": [
    "predictExo(\"PS_2022.06.27_08.12.38.csv\",\"TOI_2022.06.29_08.07.35.csv\",\"PS_2022.07.04_02.32.20.csv\")"
   ]
  }
 ],
 "metadata": {
  "kernelspec": {
   "display_name": "Python 3.9.12 ('codeastrogit')",
   "language": "python",
   "name": "python3"
  },
  "language_info": {
   "codemirror_mode": {
    "name": "ipython",
    "version": 3
   },
   "file_extension": ".py",
   "mimetype": "text/x-python",
   "name": "python",
   "nbconvert_exporter": "python",
   "pygments_lexer": "ipython3",
   "version": "3.9.12"
  },
  "orig_nbformat": 4,
  "vscode": {
   "interpreter": {
    "hash": "604d642e1d12f31842f16764757d847abbefd65c6df2d1770e6dbb129784c6ea"
   }
  }
 },
 "nbformat": 4,
 "nbformat_minor": 2
}
