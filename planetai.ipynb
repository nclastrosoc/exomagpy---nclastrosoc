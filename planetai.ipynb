{
 "cells": [
  {
   "cell_type": "code",
   "execution_count": 95,
   "metadata": {},
   "outputs": [],
   "source": [
    "# IMPORTS\n",
    "\n",
    "import numpy as np\n",
    "import os\n",
    "import matplotlib.pyplot as plt\n",
    "%matplotlib inline\n",
    "import pandas as pd\n",
    "import tensorflow\n",
    "import lightkurve as lk\n",
    "\n",
    "from PIL import Image\n",
    "\n",
    "from tensorflow import keras\n",
    "from tensorflow.keras import layers\n",
    "from tensorflow.keras import Sequential\n",
    "from tensorflow.keras.preprocessing.image import ImageDataGenerator\n",
    "from tensorflow.keras.preprocessing import image\n"
   ]
  },
  {
   "cell_type": "code",
   "execution_count": 96,
   "metadata": {},
   "outputs": [],
   "source": [
    "# PHASE AND BIN FUNCTION\n",
    "\n",
    "def phase_and_bin(data,period,t0,bin_time):\n",
    "    data_phased = data.fold(period=period,epoch_time=t0)\n",
    "    data_binned = data_phased.bin(bin_time)\n",
    "    return data_binned\n"
   ]
  },
  {
   "cell_type": "code",
   "execution_count": 97,
   "metadata": {},
   "outputs": [],
   "source": [
    "# CONVERT PLOT TO ARRAY FUNCTION\n",
    "\n",
    "def plot_to_array(pltdata):\n",
    "\n",
    "    lc = pltdata.plot(linewidth=0,marker=\".\")\n",
    "    img = np.asarray(bytearray(lc.read()),dtype=np.uint8)\n",
    "    \n",
    "    return img"
   ]
  },
  {
   "cell_type": "code",
   "execution_count": 98,
   "metadata": {},
   "outputs": [],
   "source": [
    "# DOWNLOAD (& ADD TO BIG ARRAY)\n",
    "\n",
    "def download(search,arr):\n",
    "    lc = search.download()\n",
    "    array = plot_to_array(lc)\n",
    "    arr.append(array)\n",
    "    return arr"
   ]
  },
  {
   "cell_type": "code",
   "execution_count": 99,
   "metadata": {},
   "outputs": [],
   "source": [
    "# GET ARRAY OF IMAGE ARRAYS FOR A FILE\n",
    "\n",
    "def get_lightcurves(filename):\n",
    "\n",
    "    tbl = pd.read_csv(os.path.abspath(filename),delimiter=\",\",comment=\"#\")\n",
    "    \n",
    "    colnames = tbl.columns.values.tolist()\n",
    "    if \"tid\" in colnames:\n",
    "        TICs = tbl[\"tid\"].astype(str).str[4:]\n",
    "    elif \"tic_id\" in colnames:\n",
    "        TICs = tbl[\"tic_id\"].astype(str).str[4:]\n",
    "    else:\n",
    "        print(\"No TIC ID column found.\")\n",
    "\n",
    "    x = 0\n",
    "\n",
    "    imgarray = []\n",
    "\n",
    "    while x < len(TICs):\n",
    "        name = TICs[x]\n",
    "        try:\n",
    "            search = lk.search_lightcurve(\"TIC \" + name,author=\"SPOC\",sector=1)\n",
    "            download(search,imgarray)\n",
    "        except:\n",
    "            print(\"No lightcurve found.\")\n",
    "    \n",
    "        x = x + 1\n",
    "\n",
    "        return imgarray"
   ]
  },
  {
   "cell_type": "code",
   "execution_count": 100,
   "metadata": {},
   "outputs": [],
   "source": [
    "# FETCH DATA (TESS DATA W/ LIGHTKURVE)\n",
    "\n",
    "# have it so user downloads csv table in certain format from NASA exoplanet archives (with the below headers), then inputs the file name\n",
    "\n",
    "#exonames_tbl = pd.read_csv(os.path.abspath(\"PS_2022.06.27_08.12.38.csv\"),delimiter=\",\",comment=\"#\")\n",
    "#TICs = exonames_tbl[\"tic_id\"]\n",
    "#periods = exonames_tbl[\"pl_orbper\"] # for phasing\n",
    "#epochs = exonames_tbl[\"pl_orbtper\"] # for phasing\n",
    "\n",
    "#bintime = 15/24/60\n",
    "\n",
    "#exotrainimgs = []\n",
    "\n",
    "#for x in range(0,17):\n",
    "    #print(TICs[x])\n",
    "    #name = TICs[x]\n",
    "    #if np.isnan(periods[x]) == False and np.isnan(epochs[x]) == False:\n",
    "        #train_exo_search = lk.search_lightcurve(str(name),author=\"SPOC\")[0:5]\n",
    "        #lc_exo_train = train_exo_search.download_all().stitch()\n",
    "        \n",
    "        #lc_exo_train_binned = phase_and_bin(lc_exo_train,periods[x],epochs[x],bintime)\n",
    "        \n",
    "        #imgarray = plot_to_array(lc_exo_train_binned)\n",
    "        #exotrainimgs.append(imgarray) # more on this part next!!\n",
    "        "
   ]
  },
  {
   "cell_type": "code",
   "execution_count": 101,
   "metadata": {},
   "outputs": [],
   "source": [
    "# CREATE TRAIN AND TEST DATASETS\n",
    "\n",
    "def predictExo(exotrainfile,noexotrainfile,testfile):\n",
    "\n",
    "    train = ImageDataGenerator(rescale=1/255)\n",
    "    test = ImageDataGenerator(rescale=1/255)\n",
    "    batchsize = 7\n",
    "\n",
    "    train_ds = train.flow(\n",
    "        get_lightcurves(exotrainfile),\n",
    "        get_lightcurves(noexotrainfile),\n",
    "        batch_size = batchsize,\n",
    "        class_mode = 'binary')\n",
    "\n",
    "    test_ds = test.flow(\n",
    "        get_lightcurves(testfile),\n",
    "        batch_size = batchsize,\n",
    "        class_mode = 'binary')\n",
    "\n",
    "    # BUILD CNN MODEL\n",
    "\n",
    "    model = keras.Sequential()\n",
    "\n",
    "    model.add(keras.layers.Conv2D(32,(3,3),activation=\"relu\",input_shape=(150,150,3)))\n",
    "    model.add(keras.layers.MaxPool2D(2,2))\n",
    "\n",
    "    model.add(keras.layers.Conv2D(64,(3,3),activation=\"relu\"))\n",
    "    model.add(keras.layers.MaxPool2D(2,2))\n",
    "\n",
    "    model.add(keras.layers.Conv2D(128,(3,3),activation=\"relu\"))\n",
    "    model.add(keras.layers.MaxPool2D(2,2))\n",
    "\n",
    "    model.add(keras.layers.Conv2D(128,(3,3),activation=\"relu\"))\n",
    "    model.add(keras.layers.MaxPool2D(2,2))\n",
    "\n",
    "    model.add(keras.layers.Flatten())\n",
    "\n",
    "    model.add(keras.layers.Dense(512,activation=\"relu\"))\n",
    "\n",
    "    model.add(keras.layers.Dense(1,activation=\"sigmoid\"))\n",
    "\n",
    "    model.compile(optimizer=\"adam\",loss=\"binary_crossentropy\",metrics=[\"accuracy\"])\n",
    "\n",
    "    # TRAIN DATA\n",
    "\n",
    "    model.fit(\n",
    "        train_ds,\n",
    "        steps_per_epoch = 250,\n",
    "        epochs = 10,\n",
    "        validation_data = test_ds\n",
    "    )\n",
    "\n",
    "    for y in testfile:\n",
    "\n",
    "        Y = get_lightcurves(testfile[y])\n",
    "        pic = Image.fromarray(Y)\n",
    "        pic.show()\n",
    "        X = np.expand_dims(Y,axis=0)\n",
    "\n",
    "        val = model.predict(X)\n",
    "        print(val)\n",
    "\n",
    "        if val == 1:\n",
    "            plt.xlabel(\"Exoplanet detected!\",fontsize=30)\n",
    "        elif val == 0:\n",
    "            plt.xlabel(\"No exoplanet detected.\",fontsize=30)"
   ]
  },
  {
   "cell_type": "code",
   "execution_count": 102,
   "metadata": {},
   "outputs": [
    {
     "name": "stdout",
     "output_type": "stream",
     "text": [
      "No lightcurve found.\n",
      "No lightcurve found.\n"
     ]
    },
    {
     "name": "stderr",
     "output_type": "stream",
     "text": [
      "/home/vanillacosmos/miniconda3/envs/codeastrogit/lib/python3.9/site-packages/lightkurve/search.py:341: LightkurveWarning: Cannot download from an empty search result.\n",
      "  warnings.warn(\n",
      "/home/vanillacosmos/miniconda3/envs/codeastrogit/lib/python3.9/site-packages/lightkurve/search.py:341: LightkurveWarning: Cannot download from an empty search result.\n",
      "  warnings.warn(\n"
     ]
    },
    {
     "ename": "TypeError",
     "evalue": "flow() got an unexpected keyword argument 'class_mode'",
     "output_type": "error",
     "traceback": [
      "\u001b[0;31m---------------------------------------------------------------------------\u001b[0m",
      "\u001b[0;31mTypeError\u001b[0m                                 Traceback (most recent call last)",
      "\u001b[1;32m/mnt/c/Users/ItIsO/Documents/GitHub/exo-ml/planetai.ipynb Cell 8'\u001b[0m in \u001b[0;36m<cell line: 1>\u001b[0;34m()\u001b[0m\n\u001b[0;32m----> <a href='vscode-notebook-cell://wsl%2Bubuntu/mnt/c/Users/ItIsO/Documents/GitHub/exo-ml/planetai.ipynb#ch0000007vscode-remote?line=0'>1</a>\u001b[0m predictExo(\u001b[39m\"\u001b[39;49m\u001b[39mPS_2022.06.27_08.12.38.csv\u001b[39;49m\u001b[39m\"\u001b[39;49m,\u001b[39m\"\u001b[39;49m\u001b[39mTOI_2022.06.29_08.07.35.csv\u001b[39;49m\u001b[39m\"\u001b[39;49m,\u001b[39m\"\u001b[39;49m\u001b[39mPS_2022.07.04_02.32.20.csv\u001b[39;49m\u001b[39m\"\u001b[39;49m)\n",
      "\u001b[1;32m/mnt/c/Users/ItIsO/Documents/GitHub/exo-ml/planetai.ipynb Cell 7'\u001b[0m in \u001b[0;36mpredictExo\u001b[0;34m(exotrainfile, noexotrainfile, testfile)\u001b[0m\n\u001b[1;32m      <a href='vscode-notebook-cell://wsl%2Bubuntu/mnt/c/Users/ItIsO/Documents/GitHub/exo-ml/planetai.ipynb#ch0000005vscode-remote?line=5'>6</a>\u001b[0m test \u001b[39m=\u001b[39m ImageDataGenerator(rescale\u001b[39m=\u001b[39m\u001b[39m1\u001b[39m\u001b[39m/\u001b[39m\u001b[39m255\u001b[39m)\n\u001b[1;32m      <a href='vscode-notebook-cell://wsl%2Bubuntu/mnt/c/Users/ItIsO/Documents/GitHub/exo-ml/planetai.ipynb#ch0000005vscode-remote?line=6'>7</a>\u001b[0m batchsize \u001b[39m=\u001b[39m \u001b[39m7\u001b[39m\n\u001b[0;32m----> <a href='vscode-notebook-cell://wsl%2Bubuntu/mnt/c/Users/ItIsO/Documents/GitHub/exo-ml/planetai.ipynb#ch0000005vscode-remote?line=8'>9</a>\u001b[0m train_ds \u001b[39m=\u001b[39m train\u001b[39m.\u001b[39;49mflow(\n\u001b[1;32m     <a href='vscode-notebook-cell://wsl%2Bubuntu/mnt/c/Users/ItIsO/Documents/GitHub/exo-ml/planetai.ipynb#ch0000005vscode-remote?line=9'>10</a>\u001b[0m     get_lightcurves(exotrainfile),\n\u001b[1;32m     <a href='vscode-notebook-cell://wsl%2Bubuntu/mnt/c/Users/ItIsO/Documents/GitHub/exo-ml/planetai.ipynb#ch0000005vscode-remote?line=10'>11</a>\u001b[0m     get_lightcurves(noexotrainfile),\n\u001b[1;32m     <a href='vscode-notebook-cell://wsl%2Bubuntu/mnt/c/Users/ItIsO/Documents/GitHub/exo-ml/planetai.ipynb#ch0000005vscode-remote?line=11'>12</a>\u001b[0m     batch_size \u001b[39m=\u001b[39;49m batchsize,\n\u001b[1;32m     <a href='vscode-notebook-cell://wsl%2Bubuntu/mnt/c/Users/ItIsO/Documents/GitHub/exo-ml/planetai.ipynb#ch0000005vscode-remote?line=12'>13</a>\u001b[0m     class_mode \u001b[39m=\u001b[39;49m \u001b[39m'\u001b[39;49m\u001b[39mbinary\u001b[39;49m\u001b[39m'\u001b[39;49m)\n\u001b[1;32m     <a href='vscode-notebook-cell://wsl%2Bubuntu/mnt/c/Users/ItIsO/Documents/GitHub/exo-ml/planetai.ipynb#ch0000005vscode-remote?line=14'>15</a>\u001b[0m test_ds \u001b[39m=\u001b[39m test\u001b[39m.\u001b[39mflow(\n\u001b[1;32m     <a href='vscode-notebook-cell://wsl%2Bubuntu/mnt/c/Users/ItIsO/Documents/GitHub/exo-ml/planetai.ipynb#ch0000005vscode-remote?line=15'>16</a>\u001b[0m     get_lightcurves(testfile),\n\u001b[1;32m     <a href='vscode-notebook-cell://wsl%2Bubuntu/mnt/c/Users/ItIsO/Documents/GitHub/exo-ml/planetai.ipynb#ch0000005vscode-remote?line=16'>17</a>\u001b[0m     batch_size \u001b[39m=\u001b[39m batchsize,\n\u001b[1;32m     <a href='vscode-notebook-cell://wsl%2Bubuntu/mnt/c/Users/ItIsO/Documents/GitHub/exo-ml/planetai.ipynb#ch0000005vscode-remote?line=17'>18</a>\u001b[0m     class_mode \u001b[39m=\u001b[39m \u001b[39m'\u001b[39m\u001b[39mbinary\u001b[39m\u001b[39m'\u001b[39m)\n\u001b[1;32m     <a href='vscode-notebook-cell://wsl%2Bubuntu/mnt/c/Users/ItIsO/Documents/GitHub/exo-ml/planetai.ipynb#ch0000005vscode-remote?line=19'>20</a>\u001b[0m \u001b[39m# BUILD CNN MODEL\u001b[39;00m\n",
      "\u001b[0;31mTypeError\u001b[0m: flow() got an unexpected keyword argument 'class_mode'"
     ]
    }
   ],
   "source": [
    "predictExo(\"PS_2022.06.27_08.12.38.csv\",\"TOI_2022.06.29_08.07.35.csv\",\"PS_2022.07.04_02.32.20.csv\")"
   ]
  }
 ],
 "metadata": {
  "kernelspec": {
   "display_name": "Python 3.9.12 ('codeastrogit')",
   "language": "python",
   "name": "python3"
  },
  "language_info": {
   "codemirror_mode": {
    "name": "ipython",
    "version": 3
   },
   "file_extension": ".py",
   "mimetype": "text/x-python",
   "name": "python",
   "nbconvert_exporter": "python",
   "pygments_lexer": "ipython3",
   "version": "3.9.12"
  },
  "orig_nbformat": 4,
  "vscode": {
   "interpreter": {
    "hash": "604d642e1d12f31842f16764757d847abbefd65c6df2d1770e6dbb129784c6ea"
   }
  }
 },
 "nbformat": 4,
 "nbformat_minor": 2
}
