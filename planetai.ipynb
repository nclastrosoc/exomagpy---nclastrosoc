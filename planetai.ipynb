{
 "cells": [
  {
   "cell_type": "code",
   "execution_count": 7,
   "metadata": {},
   "outputs": [],
   "source": [
    "# IMPORTS\n",
    "\n",
    "import numpy as np\n",
    "import os\n",
    "import matplotlib.pyplot as plt\n",
    "%matplotlib inline\n",
    "import pandas as pd\n",
    "import tensorflow as tf\n",
    "import lightkurve as lk\n",
    "\n",
    "from tensorflow import keras\n",
    "from tensorflow.keras import layers\n",
    "from tensorflow.keras import Sequential\n",
    "from tensorflow.keras.preprocessing.image import ImageDataGenerator\n",
    "from tensorflow.keras.preprocessing import image\n",
    "\n",
    "import astropy\n",
    "from astropy.timeseries import TimeSeries\n"
   ]
  },
  {
   "cell_type": "code",
   "execution_count": 8,
   "metadata": {},
   "outputs": [],
   "source": [
    "# FOLDERS AND DIRECTORIES\n",
    "\n",
    "lc_train_folder = \"./lightcurvePLOTS/\" # create one for lightcurves with no exoplanets\n",
    "lc_train_dir = os.listdir(lc_train_folder)\n",
    "lc_exo_plots = \"./lightcurvePLOTS/has_exoplanets/\"\n",
    "lc_fa_plots = \"./lightcurvePLOTS/no_exoplanets/\" # false alarms"
   ]
  },
  {
   "cell_type": "code",
   "execution_count": 9,
   "metadata": {},
   "outputs": [],
   "source": [
    "# PHASE AND BIN FUNCTION\n",
    "\n",
    "def phase_and_bin(data,period,t0,bin_time):\n",
    "    data_phased = data.fold(period=period,epoch_time=t0)\n",
    "    data_binned = data_phased.bin(bin_time)\n",
    "    return data_binned\n"
   ]
  },
  {
   "cell_type": "code",
   "execution_count": 10,
   "metadata": {},
   "outputs": [],
   "source": [
    "# PLOT AND SAVE FUNCTION\n",
    "\n",
    "def plot_and_save(pltdata,path,name,num):\n",
    "    pltdata.plot(linewidth=0,marker=\".\")\n",
    "    plt.savefig(os.path.abspath(path) + name + str(num) + \".png\")\n",
    "    plt.show()\n",
    "    return"
   ]
  },
  {
   "cell_type": "code",
   "execution_count": 12,
   "metadata": {},
   "outputs": [
    {
     "ename": "TypeError",
     "evalue": "index() takes at least 1 argument (0 given)",
     "output_type": "error",
     "traceback": [
      "\u001b[0;31m---------------------------------------------------------------------------\u001b[0m",
      "\u001b[0;31mTypeError\u001b[0m                                 Traceback (most recent call last)",
      "\u001b[1;32m/mnt/c/Users/ItIsO/Documents/GitHub/exo-ml/planetai.ipynb Cell 5'\u001b[0m in \u001b[0;36m<cell line: 10>\u001b[0;34m()\u001b[0m\n\u001b[1;32m      <a href='vscode-notebook-cell://wsl%2Bubuntu/mnt/c/Users/ItIsO/Documents/GitHub/exo-ml/planetai.ipynb#ch0000002vscode-remote?line=7'>8</a>\u001b[0m bintime \u001b[39m=\u001b[39m \u001b[39m15\u001b[39m\u001b[39m/\u001b[39m\u001b[39m24\u001b[39m\u001b[39m/\u001b[39m\u001b[39m60\u001b[39m\n\u001b[1;32m     <a href='vscode-notebook-cell://wsl%2Bubuntu/mnt/c/Users/ItIsO/Documents/GitHub/exo-ml/planetai.ipynb#ch0000002vscode-remote?line=9'>10</a>\u001b[0m \u001b[39mfor\u001b[39;00m x \u001b[39min\u001b[39;00m TICs:\n\u001b[0;32m---> <a href='vscode-notebook-cell://wsl%2Bubuntu/mnt/c/Users/ItIsO/Documents/GitHub/exo-ml/planetai.ipynb#ch0000002vscode-remote?line=10'>11</a>\u001b[0m     \u001b[39mif\u001b[39;00m periods[x\u001b[39m.\u001b[39;49mindex()]\u001b[39m.\u001b[39mempty \u001b[39m==\u001b[39m \u001b[39mFalse\u001b[39;00m \u001b[39mand\u001b[39;00m epochs[x\u001b[39m.\u001b[39mindex()]\u001b[39m.\u001b[39mempty \u001b[39m==\u001b[39m \u001b[39mFalse\u001b[39;00m:\n\u001b[1;32m     <a href='vscode-notebook-cell://wsl%2Bubuntu/mnt/c/Users/ItIsO/Documents/GitHub/exo-ml/planetai.ipynb#ch0000002vscode-remote?line=11'>12</a>\u001b[0m         train_exo_search \u001b[39m=\u001b[39m lk\u001b[39m.\u001b[39msearch_lightcurve(\u001b[39mstr\u001b[39m(x),author\u001b[39m=\u001b[39m\u001b[39m\"\u001b[39m\u001b[39mTESS\u001b[39m\u001b[39m\"\u001b[39m)[\u001b[39m0\u001b[39m:\u001b[39m5\u001b[39m]\n\u001b[1;32m     <a href='vscode-notebook-cell://wsl%2Bubuntu/mnt/c/Users/ItIsO/Documents/GitHub/exo-ml/planetai.ipynb#ch0000002vscode-remote?line=12'>13</a>\u001b[0m         lc_exo_train \u001b[39m=\u001b[39m train_exo_search\u001b[39m.\u001b[39mdownload_all()\u001b[39m.\u001b[39mstitch()\n",
      "\u001b[0;31mTypeError\u001b[0m: index() takes at least 1 argument (0 given)"
     ]
    }
   ],
   "source": [
    "# FETCH DATA (TESS DATA W/ LIGHTKURVE)\n",
    "\n",
    "exonames_tbl = pd.read_csv(os.path.abspath(\"PS_2022.06.27_08.12.38.csv\"),delimiter=\",\",comment=\"#\")\n",
    "TICs = exonames_tbl[\"tic_id\"]\n",
    "periods = exonames_tbl[\"pl_orbper\"] # for phasing\n",
    "epochs = exonames_tbl[\"pl_orbtper\"] # for phasing\n",
    "\n",
    "bintime = 15/24/60\n",
    "\n",
    "for x in TICs:\n",
    "    ind = TICs.index(x)\n",
    "    if periods[ind].empty == False and epochs[ind].empty == False:\n",
    "        train_exo_search = lk.search_lightcurve(str(x),author=\"TESS\")[0:5]\n",
    "        lc_exo_train = train_exo_search.download_all().stitch()\n",
    "        \n",
    "        lc_exo_train_binned = phase_and_bin(lc_exo_train,periods[ind],epochs[ind],bintime)\n",
    "        \n",
    "        plot_and_save(lc_exo_train_binned,lc_exo_plots,\"/lc_exo_trainplots_\",ind)"
   ]
  },
  {
   "cell_type": "code",
   "execution_count": null,
   "metadata": {},
   "outputs": [],
   "source": [
    "fa_tbl = pd.read_csv(os.path.abspath(\"TOI_2022.06.29_08.07.35.csv\"),delimiter=\",\",comment=\"#\")\n",
    "fa_TICs = fa_tbl[\"tic-id\"]\n",
    "\n",
    "for y in fa_TICs:\n",
    "    train_fa_search = lk.search_lightcurve(str(y),author=\"TESS\",sector=1)\n",
    "    lc_fa_train = train_fa_search.download()\n",
    "\n",
    "    plot_and_save(lc_fa_train,lc_fa_plots,\"/lc_fa_trainplots_\",fa_TICs.index(y))"
   ]
  },
  {
   "cell_type": "code",
   "execution_count": null,
   "metadata": {},
   "outputs": [],
   "source": [
    "# USER INPUT TARGET STAR AND MISSION\n",
    "\n",
    "target = str(input(\"Enter your target: \"))\n",
    "mission = str(input(\"Enter mission: \"))\n",
    "quart = input(\"Enter quarter (Kepler) or sector (TESS), A for all, M for multiple: \")"
   ]
  },
  {
   "cell_type": "code",
   "execution_count": null,
   "metadata": {},
   "outputs": [],
   "source": [
    "# FIND, PLOT AND SAVE TEST DATA\n",
    "\n",
    "test_plot_dir = \"./testPLOTS/\"\n",
    "\n",
    "if quart == \"A\" or quart == \"a\" or quart == \"all\" or quart == \"All\":\n",
    "    testsearch = lk.search_lightcurve(target,author=mission)\n",
    "    lc_test = testsearch.download()\n",
    "\n",
    "elif quart == \"M\":\n",
    "    q1 = int(input(\"Enter first quarter/sector: \"))\n",
    "    q2 = int(input(\"Enter last quarter/sector: \"))\n",
    "    testsearch = lk.search_lightcurve(target,author=mission)[q1:q2]\n",
    "    lc_test = testsearch.download_all().stitch()\n",
    "\n",
    "else:\n",
    "    if mission == \"Kepler\":\n",
    "        testsearch = lk.search_lightcurve(target,author=mission,quarter=int(quart))\n",
    "    elif mission == \"SPOC\":\n",
    "        testsearch = lk.search_lightcurve(target,author=mission,sector=int(quart))\n",
    "    lc_test = testsearch.download()\n",
    "\n",
    "period = 83.8979\n",
    "t0 = 2125.847\n",
    "\n",
    "lc_test_binned = phase_and_bin(lc_test,period,t0,bintime)\n",
    "\n",
    "plot_and_save(lc_test_binned,test_plot_dir,\"/lc_testplot.png\",0)"
   ]
  },
  {
   "cell_type": "code",
   "execution_count": null,
   "metadata": {},
   "outputs": [],
   "source": [
    "# CREATE TRAIN AND TEST DATASETS\n",
    "\n",
    "train = ImageDataGenerator(rescale=1/255)\n",
    "test = ImageDataGenerator(rescale=1/255)\n",
    "\n",
    "train_ds = train.flow_from_directory(\n",
    "    os.path.abspath(lc_exo_plots),\n",
    "    target_size=(150,150), # maybe change target size? check file structure is correct\n",
    "    batch_size = 32,\n",
    "    class_mode = 'binary')\n",
    "\n",
    "test_ds = test.flow_from_directory(\n",
    "    os.path.abspath(test_plot_dir),\n",
    "    target_size=(150,150),\n",
    "    batch_size = 32,\n",
    "    class_mode = 'binary')\n",
    "\n",
    "# BUILD CNN MODEL\n",
    "\n",
    "model = keras.Sequential()\n",
    "\n",
    "model.add(keras.layers.Conv2D(32,(3,3),activation=\"relu\",input_shape=(150,150,3)))\n",
    "model.add(keras.layers.MaxPool2D(2,2))\n",
    "\n",
    "model.add(keras.layers.Conv2D(64,(3,3),activation=\"relu\"))\n",
    "model.add(keras.layers.MaxPool2D(2,2))\n",
    "\n",
    "model.add(keras.layers.Conv2D(128,(3,3),activation=\"relu\"))\n",
    "model.add(keras.layers.MaxPool2D(2,2))\n",
    "\n",
    "model.add(keras.layers.Conv2D(128,(3,3),activation=\"relu\"))\n",
    "model.add(keras.layers.MaxPool2D(2,2))\n",
    "\n",
    "model.add(keras.layers.Flatten())\n",
    "\n",
    "model.add(keras.layers.Dense(512,activation=\"relu\"))\n",
    "\n",
    "model.add(keras.layers.Dense(1,activation=\"sigmoid\"))\n",
    "\n",
    "model.compile(optimizer=\"adam\",loss=\"binary_crossentropy\",metrics=[\"accuracy\"])\n",
    "\n",
    "# TRAIN DATA\n",
    "\n",
    "model.fit_generator(\n",
    "    train_ds,\n",
    "    steps_per_epoch = 250,\n",
    "    epochs = 10,\n",
    "    validation_data = test_ds\n",
    ")\n",
    "\n",
    "# PREDICTIONS (FUNCTION)\n",
    "\n",
    "def predictExo(filename):\n",
    "    img = image.load_img(filename,target_size=(150,150))\n",
    "    plt.imshow(img)\n",
    "\n",
    "    Y = image.img_to_array(img)\n",
    "    X = np.expand_dims(Y,axis=0)\n",
    "\n",
    "    val = model.predict(X)\n",
    "    print(val)\n",
    "\n",
    "    if val == 1:\n",
    "        plt.xlabel(\"Exoplanet detected!\",fontsize=30)\n",
    "    elif val == 0:\n",
    "        plt.xlabel(\"No exoplanet detected.\",fontsize=30)\n",
    "\n",
    "predictExo(lc_test)"
   ]
  }
 ],
 "metadata": {
  "kernelspec": {
   "display_name": "Python 3.9.12 ('codeastrogit')",
   "language": "python",
   "name": "python3"
  },
  "language_info": {
   "codemirror_mode": {
    "name": "ipython",
    "version": 3
   },
   "file_extension": ".py",
   "mimetype": "text/x-python",
   "name": "python",
   "nbconvert_exporter": "python",
   "pygments_lexer": "ipython3",
   "version": "3.9.12"
  },
  "orig_nbformat": 4,
  "vscode": {
   "interpreter": {
    "hash": "604d642e1d12f31842f16764757d847abbefd65c6df2d1770e6dbb129784c6ea"
   }
  }
 },
 "nbformat": 4,
 "nbformat_minor": 2
}
