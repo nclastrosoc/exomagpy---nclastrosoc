{
 "cells": [
  {
   "cell_type": "code",
   "execution_count": null,
   "metadata": {},
   "outputs": [],
   "source": [
    "# IMPORTS\n",
    "\n",
    "import numpy as np\n",
    "import os\n",
    "import matplotlib.pyplot as plt\n",
    "%matplotlib inline\n",
    "import pandas as pd\n",
    "import tensorflow as tf\n",
    "import lightkurve as lk\n",
    "\n",
    "from tensorflow import keras\n",
    "from tensorflow.keras import layers\n",
    "from tensorflow.keras import Sequential\n",
    "from tensorflow.keras.preprocessing.image import ImageDataGenerator\n",
    "from tensorflow.keras.preprocessing import image\n",
    "\n",
    "import astropy\n",
    "from astropy.timeseries import TimeSeries\n"
   ]
  },
  {
   "cell_type": "code",
   "execution_count": null,
   "metadata": {},
   "outputs": [],
   "source": [
    "# FETCH DATA\n",
    "\n",
    "lc_exo_folder = \"./LIGHTCURVES/\"\n",
    "lc_exo_dir = os.listdir(lc_exo_folder)\n",
    "lc_exo_plots = \"./lightcurvePLOTS/\"\n",
    "print(lc_exo_dir)\n",
    "\n",
    "# PLOT AND SAVE TO FOLDER\n",
    "\n",
    "for x in lc_exo_dir:\n",
    "    lc_exo_df = pd.read_csv(os.path.join(lc_exo_folder, x), comment=\"#\", delimiter=\" \")\n",
    "    mag = lc_exo_df[\"calibrated_magnitude\"]\n",
    "    date = lc_exo_df[\"date\"]\n",
    "    plt.scatter(date,mag)\n",
    "    plt.ylim([5,30])\n",
    "    plt.xlabel(\"date\")\n",
    "    plt.ylabel(\"magnitude\")\n",
    "    plt.show()\n",
    "    plt.savefig(os.path.abspath(lc_exo_plots) + \"/lc_exo_\" + lc_exo_dir.index(x) + \".png\")\n"
   ]
  },
  {
   "cell_type": "code",
   "execution_count": null,
   "metadata": {},
   "outputs": [],
   "source": [
    "# USER INPUT TARGET STAR AND MISSION\n",
    "\n",
    "test_df = str(input(\"Enter your target: \"))\n",
    "test_df1 = str(input(\"Enter mission: \"))"
   ]
  },
  {
   "cell_type": "code",
   "execution_count": null,
   "metadata": {},
   "outputs": [],
   "source": [
    "# FIND, PLOT AND SAVE TEST DATA\n",
    "\n",
    "test_plot_dir = \"./testPLOTS/\"\n",
    "\n",
    "testsearch = lk.search_lightcurve(test_df,author=test_df1)\n",
    "lc_test = testsearch.download_all()\n",
    "\n",
    "lc_test.plot()\n",
    "plt.savefig(os.path.abspath(test_plot_dir) + \"/lc_testplot.png\")"
   ]
  },
  {
   "cell_type": "code",
   "execution_count": null,
   "metadata": {},
   "outputs": [],
   "source": [
    "# CREATE TRAIN AND TEST DATASETS\n",
    "\n",
    "train = ImageDataGenerator(rescale=1/255)\n",
    "test = ImageDataGenerator(rescale=1/255)\n",
    "\n",
    "train_ds = train.flow_from_directory(\n",
    "    os.path.abspath(lc_exo_plots),\n",
    "    target_size=(150,150),\n",
    "    batch_size = 32,\n",
    "    class_mode = 'binary')\n",
    "\n",
    "test_ds = test.flow_from_directory(\n",
    "    os.path.abspath(test_plot_dir),\n",
    "    target_size=(150,150),\n",
    "    batch_size = 32,\n",
    "    class_mode = 'binary')\n",
    "\n",
    "# BUILD CNN MODEL\n",
    "\n",
    "model = keras.Sequential()\n",
    "\n",
    "model.add(keras.layers.Conv2D(32,(3,3),activation=\"relu\",input_shape=(150,150,3)))\n",
    "model.add(keras.layers.MaxPool2D(2,2))\n",
    "\n",
    "model.add(keras.layers.Conv2D(64,(3,3),activation=\"relu\"))\n",
    "model.add(keras.layers.MaxPool2D(2,2))\n",
    "\n",
    "model.add(keras.layers.Conv2D(128,(3,3),activation=\"relu\"))\n",
    "model.add(keras.layers.MaxPool2D(2,2))\n",
    "\n",
    "model.add(keras.layers.Conv2D(128,(3,3),activation=\"relu\"))\n",
    "model.add(keras.layers.MaxPool2D(2,2))\n",
    "\n",
    "model.add(keras.layers.Flatten())\n",
    "\n",
    "model.add(keras.layers.Dense(512,activation=\"relu\"))\n",
    "\n",
    "model.add(keras.layers.Dense(1,activation=\"sigmoid\"))\n",
    "\n",
    "model.compile(optimizer=\"adam\",loss=\"binary_crossentropy\",metrics=[\"accuracy\"])\n",
    "\n",
    "# TRAIN DATA\n",
    "\n",
    "model.fit_generator(\n",
    "    train_ds,\n",
    "    steps_per_epoch = 250,\n",
    "    epochs = 10,\n",
    "    validation_data = test_ds\n",
    ")\n",
    "\n",
    "# PREDICTIONS (FUNCTION)\n",
    "\n",
    "def predictExo(filename):\n",
    "    img = image.load_img(filename,target_size=(150,150))\n",
    "    plt.imshow(img)\n",
    "\n",
    "    Y = image.img_to_array(img)\n",
    "    X = np.expand_dims(Y,axis=0)\n",
    "\n",
    "    val = model.predict(X)\n",
    "    print(val)\n",
    "\n",
    "    if val == 1:\n",
    "        plt.xlabel(\"Exoplanet detected!\",fontsize=30)\n",
    "    elif val == 0:\n",
    "        plt.xlabel(\"No exoplanet detected.\",fontsize=30)\n",
    "\n",
    "predictExo(lc_test)"
   ]
  }
 ],
 "metadata": {
  "kernelspec": {
   "display_name": "Python 3.9.12 ('codeastrogit')",
   "language": "python",
   "name": "python3"
  },
  "language_info": {
   "codemirror_mode": {
    "name": "ipython",
    "version": 3
   },
   "file_extension": ".py",
   "mimetype": "text/x-python",
   "name": "python",
   "nbconvert_exporter": "python",
   "pygments_lexer": "ipython3",
   "version": "3.9.12"
  },
  "orig_nbformat": 4,
  "vscode": {
   "interpreter": {
    "hash": "604d642e1d12f31842f16764757d847abbefd65c6df2d1770e6dbb129784c6ea"
   }
  }
 },
 "nbformat": 4,
 "nbformat_minor": 2
}
