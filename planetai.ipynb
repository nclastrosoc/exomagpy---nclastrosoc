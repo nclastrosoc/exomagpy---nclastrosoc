{
 "cells": [
  {
   "cell_type": "code",
   "execution_count": 2,
   "metadata": {},
   "outputs": [
    {
     "name": "stderr",
     "output_type": "stream",
     "text": [
      "2022-06-26 11:28:21.311697: W tensorflow/stream_executor/platform/default/dso_loader.cc:64] Could not load dynamic library 'libcudart.so.11.0'; dlerror: libcudart.so.11.0: cannot open shared object file: No such file or directory\n",
      "2022-06-26 11:28:21.311727: I tensorflow/stream_executor/cuda/cudart_stub.cc:29] Ignore above cudart dlerror if you do not have a GPU set up on your machine.\n"
     ]
    }
   ],
   "source": [
    "# IMPORTS\n",
    "\n",
    "import numpy as np\n",
    "import matplotlib.pyplot as plt\n",
    "%matplotlib inline\n",
    "import pandas as pd\n",
    "import tensorflow as tf\n",
    "import lightkurve as lk\n",
    "\n",
    "from tensorflow import keras\n",
    "from tensorflow.keras import layers\n",
    "from tensorflow.keras import Sequential\n",
    "from tensorflow.keras.preprocessing.image import ImageDataGenerator\n",
    "from tensorflow.keras.preprocessing import image\n",
    "\n",
    "import astropy\n",
    "from astropy.timeseries import TimeSeries\n"
   ]
  },
  {
   "cell_type": "code",
   "execution_count": 17,
   "metadata": {},
   "outputs": [
    {
     "name": "stdout",
     "output_type": "stream",
     "text": [
      "0                                   \\\"GLOBAL PROPERTIES\"\n",
      "1      \\ ********************************************...\n",
      "2                                    \\STAR_ID = \"WASP18\"\n",
      "3      \\STAR_ID_DEFINED = \"Published Star Name or ID ...\n",
      "4                     \\DATA_CATEGORY = \"AXA Light Curve\"\n",
      "                             ...                        \n",
      "716      2455103.6835568      0.0606581   0.06443032 ...\n",
      "717      2455103.6837468      0.0608481   0.06463213 ...\n",
      "718      2455103.6839268      0.0610281   0.06482334 ...\n",
      "719      2455103.6841168      0.0612181   0.06502515 ...\n",
      "720      2455103.6842968      0.0613981   0.06521636 ...\n",
      "Name: \\ ******************************************************************************, Length: 721, dtype: object\n"
     ]
    }
   ],
   "source": [
    "# FETCH DATA\n",
    "\n",
    "train_df_true = pd.read_table(\"UID_0007562_data_AXA_001.tbl\")\n",
    "train_df_false = pd.read_table(\"UID_0007562_data_AXA_001.tbl\") # USE HOYS DATA INSTEAD\n",
    "\n",
    "print(train_df_true.iloc[:,0])\n"
   ]
  },
  {
   "cell_type": "code",
   "execution_count": 5,
   "metadata": {},
   "outputs": [
    {
     "ename": "KeyError",
     "evalue": "1",
     "output_type": "error",
     "traceback": [
      "\u001b[0;31m---------------------------------------------------------------------------\u001b[0m",
      "\u001b[0;31mKeyError\u001b[0m                                  Traceback (most recent call last)",
      "File \u001b[0;32m~/miniconda3/envs/codeastrogit/lib/python3.9/site-packages/pandas/core/indexes/base.py:3621\u001b[0m, in \u001b[0;36mIndex.get_loc\u001b[0;34m(self, key, method, tolerance)\u001b[0m\n\u001b[1;32m   3620\u001b[0m \u001b[39mtry\u001b[39;00m:\n\u001b[0;32m-> 3621\u001b[0m     \u001b[39mreturn\u001b[39;00m \u001b[39mself\u001b[39;49m\u001b[39m.\u001b[39;49m_engine\u001b[39m.\u001b[39;49mget_loc(casted_key)\n\u001b[1;32m   3622\u001b[0m \u001b[39mexcept\u001b[39;00m \u001b[39mKeyError\u001b[39;00m \u001b[39mas\u001b[39;00m err:\n",
      "File \u001b[0;32m~/miniconda3/envs/codeastrogit/lib/python3.9/site-packages/pandas/_libs/index.pyx:136\u001b[0m, in \u001b[0;36mpandas._libs.index.IndexEngine.get_loc\u001b[0;34m()\u001b[0m\n",
      "File \u001b[0;32m~/miniconda3/envs/codeastrogit/lib/python3.9/site-packages/pandas/_libs/index.pyx:163\u001b[0m, in \u001b[0;36mpandas._libs.index.IndexEngine.get_loc\u001b[0;34m()\u001b[0m\n",
      "File \u001b[0;32mpandas/_libs/hashtable_class_helper.pxi:5198\u001b[0m, in \u001b[0;36mpandas._libs.hashtable.PyObjectHashTable.get_item\u001b[0;34m()\u001b[0m\n",
      "File \u001b[0;32mpandas/_libs/hashtable_class_helper.pxi:5206\u001b[0m, in \u001b[0;36mpandas._libs.hashtable.PyObjectHashTable.get_item\u001b[0;34m()\u001b[0m\n",
      "\u001b[0;31mKeyError\u001b[0m: 1",
      "\nThe above exception was the direct cause of the following exception:\n",
      "\u001b[0;31mKeyError\u001b[0m                                  Traceback (most recent call last)",
      "\u001b[1;32m/mnt/c/Users/ItIsO/Documents/GitHub/exo-ml/planetai.ipynb Cell 3'\u001b[0m in \u001b[0;36m<cell line: 1>\u001b[0;34m()\u001b[0m\n\u001b[0;32m----> <a href='vscode-notebook-cell://wsl%2Bubuntu/mnt/c/Users/ItIsO/Documents/GitHub/exo-ml/planetai.ipynb#ch0000002vscode-remote?line=0'>1</a>\u001b[0m lc_exo \u001b[39m=\u001b[39m plt\u001b[39m.\u001b[39mplot(train_df_true[\u001b[39m1\u001b[39;49m],train_df_true[\u001b[39m3\u001b[39m])\n\u001b[1;32m      <a href='vscode-notebook-cell://wsl%2Bubuntu/mnt/c/Users/ItIsO/Documents/GitHub/exo-ml/planetai.ipynb#ch0000002vscode-remote?line=1'>2</a>\u001b[0m lc_no_exo \u001b[39m=\u001b[39m plt\u001b[39m.\u001b[39mplot(train_df_false[\u001b[39m1\u001b[39m],train_df_false[\u001b[39m3\u001b[39m])\n",
      "File \u001b[0;32m~/miniconda3/envs/codeastrogit/lib/python3.9/site-packages/pandas/core/frame.py:3505\u001b[0m, in \u001b[0;36mDataFrame.__getitem__\u001b[0;34m(self, key)\u001b[0m\n\u001b[1;32m   3503\u001b[0m \u001b[39mif\u001b[39;00m \u001b[39mself\u001b[39m\u001b[39m.\u001b[39mcolumns\u001b[39m.\u001b[39mnlevels \u001b[39m>\u001b[39m \u001b[39m1\u001b[39m:\n\u001b[1;32m   3504\u001b[0m     \u001b[39mreturn\u001b[39;00m \u001b[39mself\u001b[39m\u001b[39m.\u001b[39m_getitem_multilevel(key)\n\u001b[0;32m-> 3505\u001b[0m indexer \u001b[39m=\u001b[39m \u001b[39mself\u001b[39;49m\u001b[39m.\u001b[39;49mcolumns\u001b[39m.\u001b[39;49mget_loc(key)\n\u001b[1;32m   3506\u001b[0m \u001b[39mif\u001b[39;00m is_integer(indexer):\n\u001b[1;32m   3507\u001b[0m     indexer \u001b[39m=\u001b[39m [indexer]\n",
      "File \u001b[0;32m~/miniconda3/envs/codeastrogit/lib/python3.9/site-packages/pandas/core/indexes/base.py:3623\u001b[0m, in \u001b[0;36mIndex.get_loc\u001b[0;34m(self, key, method, tolerance)\u001b[0m\n\u001b[1;32m   3621\u001b[0m     \u001b[39mreturn\u001b[39;00m \u001b[39mself\u001b[39m\u001b[39m.\u001b[39m_engine\u001b[39m.\u001b[39mget_loc(casted_key)\n\u001b[1;32m   3622\u001b[0m \u001b[39mexcept\u001b[39;00m \u001b[39mKeyError\u001b[39;00m \u001b[39mas\u001b[39;00m err:\n\u001b[0;32m-> 3623\u001b[0m     \u001b[39mraise\u001b[39;00m \u001b[39mKeyError\u001b[39;00m(key) \u001b[39mfrom\u001b[39;00m \u001b[39merr\u001b[39;00m\n\u001b[1;32m   3624\u001b[0m \u001b[39mexcept\u001b[39;00m \u001b[39mTypeError\u001b[39;00m:\n\u001b[1;32m   3625\u001b[0m     \u001b[39m# If we have a listlike key, _check_indexing_error will raise\u001b[39;00m\n\u001b[1;32m   3626\u001b[0m     \u001b[39m#  InvalidIndexError. Otherwise we fall through and re-raise\u001b[39;00m\n\u001b[1;32m   3627\u001b[0m     \u001b[39m#  the TypeError.\u001b[39;00m\n\u001b[1;32m   3628\u001b[0m     \u001b[39mself\u001b[39m\u001b[39m.\u001b[39m_check_indexing_error(key)\n",
      "\u001b[0;31mKeyError\u001b[0m: 1"
     ]
    }
   ],
   "source": [
    "lc_exo = plt.plot(train_df_true[1],train_df_true[3])\n",
    "lc_no_exo = plt.plot(train_df_false[1],train_df_false[3])"
   ]
  },
  {
   "cell_type": "code",
   "execution_count": null,
   "metadata": {},
   "outputs": [],
   "source": [
    "test_df = str(input(\"Enter your target: \"))\n",
    "print()"
   ]
  },
  {
   "cell_type": "code",
   "execution_count": null,
   "metadata": {},
   "outputs": [],
   "source": [
    "test_df1 = str(input(\"Enter mission: \"))"
   ]
  },
  {
   "cell_type": "code",
   "execution_count": null,
   "metadata": {},
   "outputs": [],
   "source": [
    "testsearch = lk.search_lightcurve(test_df,author=test_df1)\n",
    "lc_test = testsearch.download_all()\n",
    "\n",
    "#ls_imgs_true = []\n",
    "#ls_imgs_false = []\n",
    "\n",
    "#for x in lc_exo:\n",
    "    #x.plot()\n",
    "    #plt.savefig(\"Lightcurve_Exo_\" + str(lc_exo.index(x)) + \".png\")\n",
    "    # export to folder\n",
    "\n",
    "#for y in lc_no_exo:\n",
    "    #plt.plot(y)\n",
    "    #plt.savefig(\"Lightcurve_No_Exo_\" + str(lc_no_exo.index(y)) + \".png\")\n",
    "    # export to folder\n",
    "\n",
    "#for z in lc_test:\n",
    "    #plt.plot(z)\n",
    "    #plt.savefig(\"Lightcurve_Test_\" + str(lc_test.index(z)) + \".png\")\n",
    "    # export to folder\n",
    "\n",
    "lc_exo.plot()\n",
    "plt.show()"
   ]
  },
  {
   "cell_type": "code",
   "execution_count": null,
   "metadata": {},
   "outputs": [],
   "source": [
    "# CREATE TRAIN AND TEST DATASETS\n",
    "\n",
    "train = ImageDataGenerator(rescale=1/255)\n",
    "test = ImageDataGenerator(rescale=1/255)\n",
    "\n",
    "train_ds = train.flow_from_directory(\n",
    "    \"IMAGE FOLDER PATH\",\n",
    "    target_size=(150,150),\n",
    "    batch_size = 32,\n",
    "    class_mode = 'binary')\n",
    "\n",
    "test_ds = test.flow_from_directory(\n",
    "    \"IMAGE FOLDER PATH\",\n",
    "    target_size=(150,150),\n",
    "    batch_size = 32,\n",
    "    class_mode = 'binary')\n",
    "\n",
    "# BUILD CNN MODEL\n",
    "\n",
    "model = keras.Sequential()\n",
    "\n",
    "model.add(keras.layers.Conv2D(32,(3,3),activation=\"relu\",input_shape=(150,150,3)))\n",
    "model.add(keras.layers.MaxPool2D(2,2))\n",
    "\n",
    "model.add(keras.layers.Conv2D(64,(3,3),activation=\"relu\"))\n",
    "model.add(keras.layers.MaxPool2D(2,2))\n",
    "\n",
    "model.add(keras.layers.Conv2D(128,(3,3),activation=\"relu\"))\n",
    "model.add(keras.layers.MaxPool2D(2,2))\n",
    "\n",
    "model.add(keras.layers.Conv2D(128,(3,3),activation=\"relu\"))\n",
    "model.add(keras.layers.MaxPool2D(2,2))\n",
    "\n",
    "model.add(keras.layers.Flatten())\n",
    "\n",
    "model.add(keras.layers.Dense(512,activation=\"relu\"))\n",
    "\n",
    "model.add(keras.layers.Dense(1,activation=\"sigmoid\"))\n",
    "\n",
    "model.compile(optimizer=\"adam\",loss=\"binary_crossentropy\",metrics=[\"accuracy\"])\n",
    "\n",
    "# TRAIN DATA\n",
    "\n",
    "model.fit_generator(\n",
    "    train_ds,\n",
    "    steps_per_epoch = 250,\n",
    "    epochs = 10,\n",
    "    validation_data = test_ds\n",
    ")\n",
    "\n",
    "# PREDICTIONS (FUNCTION)\n",
    "\n",
    "def predictExo(filename):\n",
    "    img = image.load_img(filename,target_size=(150,150))\n",
    "    plt.imshow(img)\n",
    "\n",
    "    Y = image.img_to_array(img)\n",
    "    X = np.expand_dims(Y,axis=0)\n",
    "\n",
    "    val = model.predict(X)\n",
    "    print(val)\n",
    "\n",
    "    if val == 1:\n",
    "        plt.xlabel(\"Exoplanet detected!\",fontsize=30)\n",
    "    elif val == 0:\n",
    "        plt.xlabel(\"No exoplanet detected.\",fontsize=30)\n",
    "\n",
    "predictExo(lc_test)"
   ]
  }
 ],
 "metadata": {
  "kernelspec": {
   "display_name": "Python 3.9.12 ('codeastrogit')",
   "language": "python",
   "name": "python3"
  },
  "language_info": {
   "codemirror_mode": {
    "name": "ipython",
    "version": 3
   },
   "file_extension": ".py",
   "mimetype": "text/x-python",
   "name": "python",
   "nbconvert_exporter": "python",
   "pygments_lexer": "ipython3",
   "version": "3.9.12"
  },
  "orig_nbformat": 4,
  "vscode": {
   "interpreter": {
    "hash": "604d642e1d12f31842f16764757d847abbefd65c6df2d1770e6dbb129784c6ea"
   }
  }
 },
 "nbformat": 4,
 "nbformat_minor": 2
}
